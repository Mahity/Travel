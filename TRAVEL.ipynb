{
  "cells": [
    {
      "cell_type": "markdown",
      "source": [
        "\n",
        "# TRAVELING ETHIOPIA\n",
        "**Artificial Intelligence: Principles and Techniques**\n",
        "\n",
        "*Mahlet* *Nigussie*"
      ],
      "metadata": {
        "id": "IPq4XgacKlOX"
      }
    },
    {
      "cell_type": "markdown",
      "source": [
        "Importing necessary modules"
      ],
      "metadata": {
        "id": "WVsWciQMLRS8"
      }
    },
    {
      "cell_type": "code",
      "execution_count": null,
      "metadata": {
        "id": "RmmQHOQUDbB2"
      },
      "outputs": [],
      "source": [
        "import tkinter as tk\n",
        "from tkinter import messagebox\n",
        "from collections import deque\n",
        "import json\n",
        "#for Question Two\n",
        "import queue\n",
        "# For Question Three\n",
        "import heapq"
      ]
    },
    {
      "cell_type": "markdown",
      "source": [
        "**Question 1. Consider Figure 1 (A generic state space graph for traveling Ethiopia search problem) to solve\n",
        "the following problems.**"
      ],
      "metadata": {
        "id": "1UmrK18mJ9Sr"
      }
    },
    {
      "cell_type": "markdown",
      "source": [
        "1.1 Convert Figure 1, a State space graph for traveling Ethiopia search problem, into some\n",
        "sort of manageable data structure : JSON file\n",
        "\n",
        "Loading the graph data: The graph data is loaded from a JSON file into a dictionary."
      ],
      "metadata": {
        "id": "tz5AsFDOKAKy"
      }
    },
    {
      "cell_type": "code",
      "execution_count": null,
      "metadata": {
        "id": "5ikY4F2pDbB8"
      },
      "outputs": [],
      "source": [
        "# Load the graph data from the JSON file\n",
        "with open('Figure One.json', 'r') as file:\n",
        "    graph = json.load(file)"
      ]
    },
    {
      "cell_type": "markdown",
      "source": [
        "1.2 Write a class that takes the converted state space graph, initial state, goal state and a\n",
        "search strategy and return the corresponding solution/path according to the given strategy.\n",
        "This class is used to perform BFS and DFS on the graph"
      ],
      "metadata": {
        "id": "TWiNMPv-D5ZS"
      }
    },
    {
      "cell_type": "code",
      "execution_count": null,
      "metadata": {
        "id": "vvIwFIoxDbB9"
      },
      "outputs": [],
      "source": [
        "\n",
        "class GraphSearch:\n",
        "    def __init__(self, graph):\n",
        "        self.graph = graph\n",
        "\n",
        "    def path(self, previous, state):\n",
        "        return [] if (state is None) else self.path(previous, previous[state]) + [state]\n",
        "\n",
        "    def bfs(self, start, goal):\n",
        "        frontier = deque([start])\n",
        "        previous = {start: None}\n",
        "        while frontier:\n",
        "            first_state = frontier.popleft()\n",
        "            if first_state == goal:\n",
        "                return self.path(previous, first_state)\n",
        "            for second_state in self.graph[first_state]:\n",
        "                if second_state not in previous:\n",
        "                    frontier.append(second_state)\n",
        "                    previous[second_state] = first_state\n",
        "#These methods implement the BFS and DFS algorithms respectively.\n",
        "#Both methods take the start and goal states as arguments and return the path from the start state to the goal state.\n",
        "\n",
        "    def dfs(self, start, goal):\n",
        "        visited = {}\n",
        "        prev = {start:None}\n",
        "\n",
        "        for i in self.graph:\n",
        "            visited[i] = False\n",
        "\n",
        "        stack = []\n",
        "        stack.append(start)\n",
        "\n",
        "        visited[start] = True\n",
        "\n",
        "        while stack:\n",
        "            curr = stack.pop()\n",
        "            if curr == goal:\n",
        "                curr_path = self.path(prev, goal)\n",
        "                return (curr_path)\n",
        "            else:\n",
        "                for i in self.graph[curr]:\n",
        "                    if visited[i] == False:\n",
        "                        stack.append(i)\n",
        "                        visited[i] = True\n",
        "                        prev[i] = curr"
      ]
    },
    {
      "cell_type": "markdown",
      "source": [
        " *Defining the Application class: This class is used to create the GUI for the application.*\n",
        "\n",
        "*  *The create_widgets method creates all the GUI elements, such as labels,entry fields, and buttons.*\n",
        "*   *The run_bfs and run_dfs methods are called when the BFS and DFS buttons are clicked respectively. These methods get the start and goal states from the entry fields, call the corresponding search method from the GraphSearch class, and display the result in a messageitalicized text*\n"
      ],
      "metadata": {
        "id": "3RFox_htEXZv"
      }
    },
    {
      "cell_type": "code",
      "execution_count": null,
      "metadata": {
        "id": "FH-K6vZ_DbB-"
      },
      "outputs": [],
      "source": [
        "class Application(tk.Frame):\n",
        "    def __init__(self, master=None):\n",
        "        super().__init__(master)\n",
        "        self.master = master\n",
        "        self.pack()\n",
        "        self.create_widgets()\n",
        "\n",
        "    def create_widgets(self):\n",
        "        self.city_label = tk.Label(self, text=\"Enter City:\")\n",
        "        self.city_label.pack()\n",
        "\n",
        "        self.city_entry = tk.Entry(self)\n",
        "        self.city_entry.pack()\n",
        "\n",
        "        self.goal_label = tk.Label(self, text=\"Enter Goal:\")\n",
        "        self.goal_label.pack()\n",
        "\n",
        "        self.goal_entry = tk.Entry(self)\n",
        "        self.goal_entry.pack()\n",
        "\n",
        "        self.bfs_button = tk.Button(self)\n",
        "        self.bfs_button[\"text\"] = \"BFS\"\n",
        "        self.bfs_button[\"command\"] = self.run_bfs\n",
        "        self.bfs_button.pack()\n",
        "\n",
        "        self.dfs_button = tk.Button(self)\n",
        "        self.dfs_button[\"text\"] = \"DFS\"\n",
        "        self.dfs_button[\"command\"] = self.run_dfs\n",
        "        self.dfs_button.pack()\n",
        "\n",
        "    def run_bfs(self):\n",
        "        city = self.city_entry.get()\n",
        "        goal = self.goal_entry.get()\n",
        "        # Call your BFS function here with 'city' and 'goal' as the arguments\n",
        "        result = search.bfs(city, goal)\n",
        "        messagebox.showinfo(\"BFS Result\", str(result))\n",
        "\n",
        "    def run_dfs(self):\n",
        "        city = self.city_entry.get()\n",
        "        goal = self.goal_entry.get()\n",
        "        # Call your DFS function here with 'city' and 'goal' as the arguments\n",
        "        result = search.dfs(city, goal)\n",
        "        messagebox.showinfo(\"DFS Result\", str(result))"
      ]
    },
    {
      "cell_type": "markdown",
      "source": [
        "*Creating an instance of GraphSearch: An instance of the GraphSearch class is created with the graph data*"
      ],
      "metadata": {
        "id": "fhdsqVm1FAut"
      }
    },
    {
      "cell_type": "code",
      "execution_count": null,
      "metadata": {
        "id": "S19wZTuLDbB_"
      },
      "outputs": [],
      "source": [
        "# Initialize the GraphSearch class with your graph\n",
        "search = GraphSearch(graph)"
      ]
    },
    {
      "cell_type": "markdown",
      "source": [
        "*italicized texCreating the GUI: An instance of the Application class is created and the main event loop is started with mainloop.*"
      ],
      "metadata": {
        "id": "YZ7UW1pnFHgK"
      }
    },
    {
      "cell_type": "code",
      "execution_count": null,
      "metadata": {
        "id": "MXOUQbTDDbCA"
      },
      "outputs": [],
      "source": [
        "# Create the GUI\n",
        "root = tk.Tk()\n",
        "app = Application(master=root)\n",
        "app.mainloop()"
      ]
    },
    {
      "cell_type": "markdown",
      "source": [
        " **Question 2. Given Figure 2, a state space graph with backward cost for the traveling Ethiopia search problem.**"
      ],
      "metadata": {
        "id": "vESQZdQPGpMw"
      }
    },
    {
      "cell_type": "markdown",
      "source": [
        "2.1 Convert Figure 2 into some sort of manageable data structure:\n",
        "\n",
        "*   *Loading the graph data: The graph data is loaded from a JSON file into a dictionary.*\n",
        "*   *Setting the start and goal states: The start state and goal states are set. The goal states are a list of cities.*"
      ],
      "metadata": {
        "id": "-tZ1-GXJFx96"
      }
    },
    {
      "cell_type": "code",
      "execution_count": null,
      "metadata": {
        "id": "mt04fHrPDbCA"
      },
      "outputs": [],
      "source": [
        "# Open the file and load the data\n",
        "with open('Figure Two.json', 'r') as file:\n",
        "    graph = json.load(file)\n",
        "start = \"Addis Abeba\"\n",
        "goal_states = [\"Axum\", \"Gondar\", \"Lalibela\", \"Babile\", \"Jimma\", \"Bale\", \"Sof Oumer\", \"Arba Minch\"]"
      ]
    },
    {
      "cell_type": "markdown",
      "source": [
        "2.2 Assuming “Addis Ababa” as an initial state, write a program that use uniform cost search\n",
        "to generate a path to “Lalibela”."
      ],
      "metadata": {
        "id": "CKbWuSElJLD4"
      }
    },
    {
      "cell_type": "markdown",
      "source": [
        "*Defining the Uniform Cost Search (UCS) function: This function implements the UCS algorithm. It takes the graph, start state, and goal states as arguments and returns the shortest distances and previous nodes for each city.*"
      ],
      "metadata": {
        "id": "neCF5qgTHF3t"
      }
    },
    {
      "cell_type": "code",
      "execution_count": null,
      "metadata": {
        "id": "AhqGFeRDDbCB"
      },
      "outputs": [],
      "source": [
        "def uniform_cost_search(graph, start, goal_states):\n",
        "\n",
        "    visited = {city: False for city in graph}\n",
        "    distances = {city: float('inf') for city in graph}\n",
        "    previous_nodes = {city: None for city in graph}\n",
        "\n",
        "    distances[start] = 0\n",
        "    pq = queue.PriorityQueue()\n",
        "    pq.put((0, start))\n",
        "\n",
        "    while not pq.empty():\n",
        "        (dist, current_node) = pq.get()\n",
        "\n",
        "        if all(visited[city] for city in goal_states):\n",
        "            return distances, previous_nodes\n",
        "\n",
        "        if visited[current_node]:\n",
        "            continue\n",
        "\n",
        "        visited[current_node] = True\n",
        "\n",
        "        for neighbor, weight in graph[current_node].items():\n",
        "            old_cost = distances[neighbor]\n",
        "            new_cost = dist + weight\n",
        "\n",
        "            if new_cost < old_cost:\n",
        "                pq.put((new_cost, neighbor))\n",
        "                distances[neighbor] = new_cost\n",
        "                previous_nodes[neighbor] = current_node\n",
        "\n",
        "    return distances, previous_nodes"
      ]
    },
    {
      "cell_type": "markdown",
      "source": [
        "*Defining the get_path function: This function takes the previous nodes, start state, and goal state as arguments and returns the path from the start state to the goal state.*"
      ],
      "metadata": {
        "id": "H4PRzWuOIExI"
      }
    },
    {
      "cell_type": "code",
      "execution_count": null,
      "metadata": {
        "id": "NCpijxOTDbCC"
      },
      "outputs": [],
      "source": [
        "def get_path(previous_nodes, start, goal):\n",
        "    path = []\n",
        "    current_node = goal\n",
        "    while current_node is not None:\n",
        "        path.append(current_node)\n",
        "        current_node = previous_nodes[current_node]\n",
        "    path.reverse()  # reverse the list because we added nodes from goal to start\n",
        "    return path"
      ]
    },
    {
      "cell_type": "markdown",
      "source": [
        "*Running UCS and getting the path: The UCS function is called with the start state and goal states. The get_path function is then called with the previous nodes, start state, and goal state to get the path. The total cost is also calculated.*"
      ],
      "metadata": {
        "id": "ftJs8SvOIL-r"
      }
    },
    {
      "cell_type": "code",
      "execution_count": null,
      "metadata": {
        "id": "jkF4w2toDbCC",
        "outputId": "9ca72cf9-6744-4c53-824d-34d332ccd42b"
      },
      "outputs": [
        {
          "name": "stdout",
          "output_type": "stream",
          "text": [
            "['Addis Abeba', 'Debre Birhan', 'Debre Sina', 'Kemise', 'Dessie', 'Woldia', 'Lalibela'] 30\n"
          ]
        }
      ],
      "source": [
        "distances, previous_nodes = uniform_cost_search(graph, \"Addis Abeba\", [\"Lalibela\"])\n",
        "path = get_path(previous_nodes, \"Addis Abeba\", \"Lalibela\")\n",
        "total_cost = distances[\"Lalibela\"]\n",
        "print(path, total_cost)"
      ]
    },
    {
      "cell_type": "markdown",
      "source": [
        "2.3 Given “Addis Ababa” as an initial state and “Axum”, “Gondar”, “Lalibela”, Babile,\n",
        "“Jimma”, “Bale”, “Sof Oumer”, and “Arba Minch” as goal states;in no specific order, write\n",
        "a customized uniform cost search algorithm to generate a path that let a visitor visit all those\n",
        "goal states preserving the local optimum."
      ],
      "metadata": {
        "id": "CFb-_lWJJHBl"
      }
    },
    {
      "cell_type": "markdown",
      "source": [
        "*Defining the ucs_tour function: This function finds the shortest tour that visits all the goal states using UCS. It returns the path and total cost of the tour.*"
      ],
      "metadata": {
        "id": "dV2ljGbEIORp"
      }
    },
    {
      "cell_type": "code",
      "execution_count": null,
      "metadata": {
        "id": "Wrnm4IuFDbCE"
      },
      "outputs": [],
      "source": [
        "def ucs_tour(graph, start, goal_states):\n",
        "    path = [(start, 0)]  # The cost from the start city to itself is 0\n",
        "    total_cost = 0\n",
        "\n",
        "    while goal_states:\n",
        "        # Find the closest goal state using UCS\n",
        "        distances, previous_nodes = uniform_cost_search(graph, start, goal_states)\n",
        "        closest_goal = min(goal_states, key=lambda city: reconstruct_path_cost(previous_nodes, start, city))\n",
        "        goal_states.remove(closest_goal)\n",
        "\n",
        "        # Calculate the cost of the leg from the current city to the closest_goal\n",
        "        cost = reconstruct_path_cost(previous_nodes, start, closest_goal)\n",
        "\n",
        "        # Add the cost to the total cost\n",
        "        total_cost += cost\n",
        "\n",
        "        # Reconstruct the path from the current city to the closest_goal\n",
        "        current = closest_goal\n",
        "        leg_path = []\n",
        "        while current != start:\n",
        "            leg_path.append(current)\n",
        "            current = previous_nodes[current]\n",
        "        leg_path.append(start)\n",
        "        leg_path.reverse()\n",
        "\n",
        "        # Add the closest goal state, the cost, and the path to the path\n",
        "        path.append((closest_goal, cost, leg_path))\n",
        "\n",
        "        # Start the next search from the closest goal state\n",
        "        start = closest_goal\n",
        "\n",
        "    return path, total_cost"
      ]
    },
    {
      "cell_type": "markdown",
      "source": [
        "*Defining the reconstruct_path_cost function: This function calculates the cost of a path from the start state to the goal state.*\n"
      ],
      "metadata": {
        "id": "wFm6kNF4IdBi"
      }
    },
    {
      "cell_type": "code",
      "execution_count": null,
      "metadata": {
        "id": "n7t6lewoDbCF"
      },
      "outputs": [],
      "source": [
        "def reconstruct_path_cost(previous_nodes, start, goal):\n",
        "    cost = 0\n",
        "    current = goal\n",
        "    while current != start:\n",
        "        cost += graph[previous_nodes[current]][current]\n",
        "        current = previous_nodes[current]\n",
        "    return cost\n",
        "\n",
        "path, total_cost = ucs_tour(graph, start, goal_states)"
      ]
    },
    {
      "cell_type": "markdown",
      "source": [
        "*Running the ucs_tour function and printing the results: The ucs_tour function is called with the graph, start state, and goal states. The path and total cost of the tour are printed.*"
      ],
      "metadata": {
        "id": "f60BZyruIf14"
      }
    },
    {
      "cell_type": "code",
      "execution_count": null,
      "metadata": {
        "id": "4K-gwYuFDbCG",
        "outputId": "7e87e420-36c1-49d5-bde4-834e1f273d79"
      },
      "outputs": [
        {
          "name": "stdout",
          "output_type": "stream",
          "text": [
            "Path from Addis Abeba to Jimma: Cost = 19, Cities visited = ['Addis Abeba', 'Ambo', 'Wolkite', 'Jimma']\n",
            "Path from Jimma to Arba Minch: Cost = 24, Cities visited = ['Jimma', 'Wolkite', 'Worabe', 'Hossana', 'Wolita Sodo', 'Arba Minch']\n",
            "Path from Arba Minch to Bale: Cost = 32, Cities visited = ['Arba Minch', 'Wolita Sodo', 'Hossana', 'Shashemene', 'Dodolla', 'Bale']\n",
            "Path from Bale to Sof Oumer: Cost = 23, Cities visited = ['Bale', 'Sof Oumer']\n",
            "Path from Sof Oumer to Babile: Cost = 42, Cities visited = ['Sof Oumer', 'Gode', 'Kebri Dehar', 'Dega Habur', 'Jigjiga', 'Babile']\n",
            "Path from Babile to Lalibela: Cost = 47, Cities visited = ['Babile', 'Harar', 'Dire Dawa', 'Chiro', 'Awash', 'Gabi Rasu', 'Samara', 'Woldia', 'Lalibela']\n",
            "Path from Lalibela to Gondar: Cost = 20, Cities visited = ['Lalibela', 'Debre Tabor', 'Bahirdar', 'Azezo', 'Gondar']\n",
            "Path from Gondar to Axum: Cost = 13, Cities visited = ['Gondar', 'Debarke', 'Shire', 'Axum']\n",
            "Total cost:  220\n"
          ]
        }
      ],
      "source": [
        "# Print the path with the cost of each leg and the cities visited\n",
        "for i in range(1, len(path)):\n",
        "    print(f\"Path from {path[i-1][0]} to {path[i][0]}: Cost = {path[i][1]}, Cities visited = {path[i][2]}\")\n",
        "\n",
        "print(\"Total cost: \", total_cost)"
      ]
    },
    {
      "cell_type": "markdown",
      "source": [
        "**Question 3. Given Figure 3, a state space graph with heuristic and backward cost. Write a class that use A*\n",
        "search to generate a path from the initial state “Addis Ababa” to goal state “Moyale”.**"
      ],
      "metadata": {
        "id": "hDSFwpNgJR_j"
      }
    },
    {
      "cell_type": "code",
      "execution_count": null,
      "metadata": {
        "id": "eW7FMCLSDbCH"
      },
      "outputs": [],
      "source": [
        "class AStar:\n",
        "    def __init__(self, graph, heuristic):\n",
        "        self.graph = graph\n",
        "        self.heuristic = heuristic\n",
        "\n",
        "    def search(self, start, goal):\n",
        "        frontier = [(0, 0, start, [])]  # Add a separate variable for path cost\n",
        "        explored = set()\n",
        "        while frontier:\n",
        "            _, path_cost, node, path = heapq.heappop(frontier)  # Separate path cost from total cost\n",
        "            if node == goal:\n",
        "                path = path + [node]\n",
        "                path_cost = path_cost  # Return path cost instead of total cost\n",
        "                return path, path_cost\n",
        "            if node not in explored:\n",
        "                explored.add(node)\n",
        "                for neighbor in self.graph[node]:\n",
        "                    edge_cost = self.graph[node][neighbor]\n",
        "                    heuristic_cost = self.heuristic[neighbor]\n",
        "                    total_cost = path_cost + edge_cost + heuristic_cost\n",
        "                    heapq.heappush(frontier, (total_cost, path_cost + edge_cost, neighbor, path + [node]))\n",
        "        return None  # No path found"
      ]
    },
    {
      "cell_type": "code",
      "execution_count": null,
      "metadata": {
        "id": "14C1VneCDbCH"
      },
      "outputs": [],
      "source": [
        "# Load your graph and heuristic data\n",
        "with open('Figure Third.json', 'r') as file:\n",
        "    graph = json.load(file)\n",
        "\n",
        "with open('Heurstic.json', 'r') as file:\n",
        "    heuristic = json.load(file)"
      ]
    },
    {
      "cell_type": "code",
      "execution_count": null,
      "metadata": {
        "id": "bse_TsIUDbCI",
        "outputId": "d02d6ec8-7665-4b20-a1e6-ce92644afd23"
      },
      "outputs": [
        {
          "name": "stdout",
          "output_type": "stream",
          "text": [
            "Path: ['Addis Ababa', 'Adama', 'Batu', 'Shashemene', 'Hawassa', 'Dilla', 'Bule Hora', 'Yabello', 'Moyale']\n",
            "Cost: 27\n"
          ]
        }
      ],
      "source": [
        "# Create an instance of AStar and find the path\n",
        "astar = AStar(graph, heuristic)\n",
        "path, cost = astar.search(\"Addis Ababa\", \"Moyale\")\n",
        "print(f\"Path: {path}\")\n",
        "print(f\"Cost: {cost}\")"
      ]
    },
    {
      "cell_type": "markdown",
      "source": [
        "**Question 4. Assume an adversary joins the Traveling Ethiopia Search Problem as shown in Figure 4. The goal\n",
        "of the agent would be to reach to a state where it gains good quality of Coffee. Write a class that\n",
        "shows how MiniMax search algorithm directs an agent to the best achievable destination.**"
      ],
      "metadata": {
        "id": "7B2wDjz5JV51"
      }
    },
    {
      "cell_type": "code",
      "execution_count": null,
      "metadata": {
        "id": "7b5lekfIDbCI"
      },
      "outputs": [],
      "source": [
        "class MiniMax:\n",
        "    def __init__(self, graph, utilities):\n",
        "        self.graph = graph\n",
        "        self.utilities = utilities\n",
        "\n",
        "    def search(self, node, maximizing_player=True, path=[]):\n",
        "        path = path + [node]\n",
        "        if node in self.utilities:  # Terminal node\n",
        "            return self.utilities[node], path\n",
        "\n",
        "        if maximizing_player:\n",
        "            max_utility = float('-inf')\n",
        "            best_path = None\n",
        "            for child in self.graph[node]:\n",
        "                utility, child_path = self.search(child, False, path)\n",
        "                if utility > max_utility:\n",
        "                    max_utility = utility\n",
        "                    best_path = child_path\n",
        "            return max_utility, best_path\n",
        "        else:  # Minimizing player\n",
        "            min_utility = float('inf')\n",
        "            best_path = None\n",
        "            for child in self.graph[node]:\n",
        "                utility, child_path = self.search(child, True, path)\n",
        "                if utility < min_utility:\n",
        "                    min_utility = utility\n",
        "                    best_path = child_path\n",
        "            return min_utility, best_path"
      ]
    },
    {
      "cell_type": "code",
      "execution_count": null,
      "metadata": {
        "id": "spWAvDCtDbCJ"
      },
      "outputs": [],
      "source": [
        "# Define your graph and utilities\n",
        "graph = {\n",
        "    \"Addis Ababa\": [\"Ambo\", \"Buta Jirra\", \"Adama\"],\n",
        "    \"Ambo\": [\"Gedo\", \"Nekemte\"],\n",
        "    \"Buta Jirra\": [\"Worabe\", \"Wolkite\"],\n",
        "    \"Adama\": [\"Dire Dawa\", \"Mojo\"],\n",
        "    \"Gedo\": [\"Shambu\", \"Fincha\"],\n",
        "    \"Nekemte\": [\"Gimbi\", \"Limu\"],\n",
        "    \"Worabe\": [\"Hossana\", \"Durame\"],\n",
        "    \"Wolkite\": [\"Benchi Naji\", \"Tepi\"],\n",
        "    \"Mojo\": [\"Dilla\", \"Kaffa\"],\n",
        "    \"Dire Dawa\": [\"Chiro\", \"Harar\"]\n",
        "}\n",
        "utilities = {\n",
        "    \"Fincha\": 5,\n",
        "    \"Shambu\": 4,\n",
        "    \"Gimbi\": 8,\n",
        "    \"Limu\": 8,\n",
        "    \"Hossana\": 6,\n",
        "    \"Durame\": 5,\n",
        "    \"Benchi Naji\": 5,\n",
        "    \"Tepi\": 6,\n",
        "    \"Kaffa\": 7,\n",
        "    \"Dilla\": 9,\n",
        "    \"Chiro\": 6,\n",
        "    \"Harar\": 10\n",
        "}"
      ]
    },
    {
      "cell_type": "code",
      "execution_count": null,
      "metadata": {
        "id": "LV2MyQCdDbCK",
        "outputId": "da439cc1-231e-4323-fba8-7ac79fa77286"
      },
      "outputs": [
        {
          "name": "stdout",
          "output_type": "stream",
          "text": [
            "Best achievable path: ['Addis Ababa', 'Adama', 'Mojo', 'Dilla'] with utility: 9\n"
          ]
        }
      ],
      "source": [
        "# Create an instance of MiniMax and find the best path\n",
        "minimax = MiniMax(graph, utilities)\n",
        "utility, path = minimax.search(\"Addis Ababa\")\n",
        "print(f\"Best achievable path: {path} with utility: {utility}\")"
      ]
    }
  ],
  "metadata": {
    "kernelspec": {
      "display_name": "Python 3",
      "language": "python",
      "name": "python3"
    },
    "language_info": {
      "codemirror_mode": {
        "name": "ipython",
        "version": 3
      },
      "file_extension": ".py",
      "mimetype": "text/x-python",
      "name": "python",
      "nbconvert_exporter": "python",
      "pygments_lexer": "ipython3",
      "version": "3.12.0"
    },
    "colab": {
      "provenance": []
    }
  },
  "nbformat": 4,
  "nbformat_minor": 0
}